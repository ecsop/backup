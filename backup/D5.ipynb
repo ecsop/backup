{
 "cells": [
  {
   "cell_type": "code",
   "execution_count": 8,
   "id": "5de80712",
   "metadata": {},
   "outputs": [
    {
     "name": "stdout",
     "output_type": "stream",
     "text": [
      "Enter no. of queen: 5\n",
      "0 1 0 0 0\n",
      "0 0 0 1 0\n",
      "1 0 0 0 0\n",
      "0 0 1 0 0\n",
      "0 0 0 0 1\n",
      "\n",
      "\n",
      "0 1 0 0 0\n",
      "0 0 0 0 1\n",
      "0 0 1 0 0\n",
      "1 0 0 0 0\n",
      "0 0 0 1 0\n",
      "\n",
      "\n"
     ]
    }
   ],
   "source": [
    "def is_safe(board, row, col, n):\n",
    "    # Check if no queen attacks in the same column\n",
    "    for i in range(row):\n",
    "        if board[i][col] == 1:\n",
    "            return False\n",
    "    \n",
    "    # Check if no queen attacks on the left diagonal\n",
    "    for i, j in zip(range(row, -1, -1), range(col, -1, -1)):\n",
    "        if board[i][j] == 1:\n",
    "            return False\n",
    "    \n",
    "    # Check if no queen attacks on the right diagonal\n",
    "    for i, j in zip(range(row, -1, -1), range(col, n)):\n",
    "        if board[i][j] == 1:\n",
    "            return False\n",
    "    \n",
    "    return True\n",
    "\n",
    "def solve_n_queens(board, row, n):\n",
    "    if row == n:\n",
    "        # All queens are placed, and the solution is found\n",
    "        for row in board:\n",
    "            print(\" \".join(['1' if cell == 1 else '0' for cell in row]))\n",
    "        print(\"\\n\")\n",
    "    else:\n",
    "        for col in range(n):\n",
    "            if is_safe(board, row, col, n):\n",
    "                board[row][col] = 1\n",
    "                solve_n_queens(board, row + 1, n)\n",
    "                board[row][col] = 0  # Backtrack\n",
    "\n",
    "def place_first_queen_and_solve(n, col):\n",
    "    if col < 0 or col >= n:\n",
    "        print(\"Invalid column for the first queen.\")\n",
    "    else:\n",
    "        board = [[0] * n for _ in range(n)]\n",
    "        board[0][col] = 1\n",
    "        solve_n_queens(board, 1, n)\n",
    "\n",
    "# Usage example\n",
    "n =int(input(\"Enter no. of queen: \")) # Change this to the desired board size\n",
    "first_queen_column = 1  # Change this to the desired column for the first queen\n",
    "place_first_queen_and_solve(n, first_queen_column)\n"
   ]
  },
  {
   "cell_type": "code",
   "execution_count": null,
   "id": "2840cbbe",
   "metadata": {},
   "outputs": [],
   "source": []
  },
  {
   "cell_type": "code",
   "execution_count": null,
   "id": "0049f86d",
   "metadata": {},
   "outputs": [],
   "source": []
  }
 ],
 "metadata": {
  "kernelspec": {
   "display_name": "Python 3 (ipykernel)",
   "language": "python",
   "name": "python3"
  },
  "language_info": {
   "codemirror_mode": {
    "name": "ipython",
    "version": 3
   },
   "file_extension": ".py",
   "mimetype": "text/x-python",
   "name": "python",
   "nbconvert_exporter": "python",
   "pygments_lexer": "ipython3",
   "version": "3.9.13"
  }
 },
 "nbformat": 4,
 "nbformat_minor": 5
}
