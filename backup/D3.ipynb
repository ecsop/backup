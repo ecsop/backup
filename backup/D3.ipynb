{
 "cells": [
  {
   "cell_type": "code",
   "execution_count": 5,
   "id": "cd2ea09c",
   "metadata": {},
   "outputs": [
    {
     "name": "stdout",
     "output_type": "stream",
     "text": [
      "Maximum value in Knapsack = 240.0\n"
     ]
    },
    {
     "data": {
      "text/plain": [
       "'OUTPUT:\\nMaximum value in Knapsack = 240.0'"
      ]
     },
     "execution_count": 5,
     "metadata": {},
     "output_type": "execute_result"
    }
   ],
   "source": [
    "class ItemValue:\n",
    "    \"\"\"Item Value DataClass\"\"\"\n",
    "\n",
    "    def __init__(self, wt_, val_, ind_):\n",
    "        self.wt = wt_\n",
    "        self.val = val_\n",
    "        self.ind = ind_\n",
    "        self.cost = val_ // wt_\n",
    "\n",
    "    def __lt__(self, other):\n",
    "        return self.cost < other.cost\n",
    "\n",
    "\n",
    "def fractionalKnapSack(wt, val, capacity):\n",
    "    \"\"\"Function to get maximum value\"\"\"\n",
    "    iVal = [ItemValue(wt[i], val[i], i) for i in range(len(wt))]\n",
    "\n",
    "    # sorting items by value\n",
    "    iVal.sort(reverse=True)\n",
    "\n",
    "    totalValue = 0\n",
    "    for i in iVal:\n",
    "        curWt = i.wt\n",
    "        curVal = i.val\n",
    "        if capacity - curWt >= 0:\n",
    "            capacity -= curWt\n",
    "            totalValue += curVal\n",
    "        else:\n",
    "            fraction = capacity / curWt\n",
    "            totalValue += curVal * fraction\n",
    "            capacity = int(capacity - (curWt * fraction))\n",
    "            break\n",
    "    return totalValue\n",
    "\n",
    "wt = [10, 40, 20, 30]\n",
    "val = [60, 40, 100, 120]\n",
    "capacity = 50\n",
    "\n",
    "# Function call\n",
    "maxValue = fractionalKnapSack(wt, val, capacity)\n",
    "print(\"Maximum value in Knapsack =\", maxValue)\n",
    "\n",
    "'''OUTPUT:\n",
    "Maximum value in Knapsack = 240.0'''"
   ]
  },
  {
   "cell_type": "code",
   "execution_count": null,
   "id": "6ec76dea",
   "metadata": {},
   "outputs": [],
   "source": []
  }
 ],
 "metadata": {
  "kernelspec": {
   "display_name": "Python 3 (ipykernel)",
   "language": "python",
   "name": "python3"
  },
  "language_info": {
   "codemirror_mode": {
    "name": "ipython",
    "version": 3
   },
   "file_extension": ".py",
   "mimetype": "text/x-python",
   "name": "python",
   "nbconvert_exporter": "python",
   "pygments_lexer": "ipython3",
   "version": "3.9.13"
  }
 },
 "nbformat": 4,
 "nbformat_minor": 5
}
