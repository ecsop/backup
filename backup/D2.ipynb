{
 "cells": [
  {
   "cell_type": "code",
   "execution_count": 4,
   "id": "8031bb1f",
   "metadata": {},
   "outputs": [
    {
     "name": "stdout",
     "output_type": "stream",
     "text": [
      "Characters : [a, b, c, d, e, f]\n",
      "Frequency : [5, 9, 12, 13, 16, 45] \n",
      "\n",
      "Huffman Encoding:\n",
      "f ---> 0\n",
      "c ---> 100\n",
      "d ---> 101\n",
      "a ---> 1100\n",
      "b ---> 1101\n",
      "e ---> 111\n"
     ]
    },
    {
     "data": {
      "text/plain": [
       "'OUTPUT:\\nCharacters : [a, b, c, d, e, f]\\nFrequency : [5, 9, 12, 13, 16, 45]\\nHuffman Encoding:\\nf > 0\\nc > 100\\nd > 101\\na > 1100\\nb > 1101\\ne > 111'"
      ]
     },
     "execution_count": 4,
     "metadata": {},
     "output_type": "execute_result"
    }
   ],
   "source": [
    "class Node:\n",
    "    \"\"\"A Huffman Tree Node\"\"\"\n",
    "    def __init__(self, freq_, symbol_, left_=None, right_=None):\n",
    "        # frequency of symbol\n",
    "        self.freq = freq_\n",
    "        \n",
    "        # symbol name (character)\n",
    "        self.symbol = symbol_\n",
    "\n",
    "        # node left of current node\n",
    "        self.left = left_\n",
    "\n",
    "        # node right of current node\n",
    "        self.right = right_\n",
    "\n",
    "        # tree direction (0/1)\n",
    "        self.huff = \"\"\n",
    "\n",
    "def print_nodes(node, val=\"\"):\n",
    "    ''' Utility function to print huffman codes for all symbols in the newly created\n",
    "    Huffman tree'''\n",
    "    # huffman code for current node\n",
    "    new_val = val + str(node.huff)\n",
    "\n",
    "    # if node is not an edge node then traverse inside it\n",
    "    if node.left:\n",
    "        print_nodes(node.left, new_val)\n",
    "    if node.right:\n",
    "        print_nodes(node.right, new_val)\n",
    "    \n",
    "    # if node is edge node then display its huffman code\n",
    "    if not node.left and not node.right:\n",
    "        print(f\"{node.symbol} ---> {new_val}\")\n",
    "\n",
    "    \n",
    "# characters for huffman tree\n",
    "chars = [\"a\", \"b\", \"c\", \"d\", \"e\", \"f\"]\n",
    "\n",
    "# frequency of characters\n",
    "freq = [5, 9, 12, 13, 16, 45]\n",
    "\n",
    "# list containing huffman tree nodes of characters and frequencies\n",
    "nodes = [Node(freq[x], chars[x]) for x in range(len(chars))]\n",
    "\n",
    "while len(nodes) > 1:\n",
    "    # sort all the nodes in ascending order based on their frequency\n",
    "    nodes = sorted(nodes, key=lambda x: x.freq)\n",
    "    \n",
    "    # pick 2 smallest nodes\n",
    "    left = nodes[0]\n",
    "    right = nodes[1]\n",
    "    \n",
    "    # assign directional value to these nodes\n",
    "    left.huff = 0\n",
    "    right.huff = 1\n",
    "    \n",
    "    # combine the 2 smallest nodes to create new node as their parent\n",
    "    newNode = Node(left.freq + right.freq, left.symbol + right.symbol, left, right)\n",
    "    \n",
    "    # remove the 2 nodes and add their parent as new node among others\n",
    "    nodes.remove(left)\n",
    "    nodes.remove(right)\n",
    "    nodes.append(newNode)\n",
    "\n",
    "    \n",
    "print(\"Characters :\", f'[{\", \".join(chars)}]')\n",
    "print(\"Frequency :\", freq, \"\\n\\nHuffman Encoding:\")\n",
    "print_nodes(nodes[0])\n",
    "\n",
    "\n",
    "'''OUTPUT:\n",
    "Characters : [a, b, c, d, e, f]\n",
    "Frequency : [5, 9, 12, 13, 16, 45]\n",
    "Huffman Encoding:\n",
    "f > 0\n",
    "c > 100\n",
    "d > 101\n",
    "a > 1100\n",
    "b > 1101\n",
    "e > 111'''"
   ]
  },
  {
   "cell_type": "code",
   "execution_count": null,
   "id": "26551d02",
   "metadata": {},
   "outputs": [],
   "source": []
  }
 ],
 "metadata": {
  "kernelspec": {
   "display_name": "Python 3 (ipykernel)",
   "language": "python",
   "name": "python3"
  },
  "language_info": {
   "codemirror_mode": {
    "name": "ipython",
    "version": 3
   },
   "file_extension": ".py",
   "mimetype": "text/x-python",
   "name": "python",
   "nbconvert_exporter": "python",
   "pygments_lexer": "ipython3",
   "version": "3.9.13"
  }
 },
 "nbformat": 4,
 "nbformat_minor": 5
}
